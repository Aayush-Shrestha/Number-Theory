{
 "cells": [
  {
   "cell_type": "code",
   "execution_count": 1,
   "id": "c654a117-560a-4e6b-b5be-5a5942b5ad88",
   "metadata": {},
   "outputs": [],
   "source": [
    "division <- function() {\n",
    "    \n",
    "    a = as.numeric( readline( prompt = \"Enter the larger integer: \" ) )\n",
    "    b = as.numeric( readline( prompt = \"Enter the smaller integer: \" ) )\n",
    "    \n",
    "    if( a == as.integer(a) && b == as.integer(b) ) {\n",
    "      q = a %/% b\n",
    "      r = a %% b\n",
    "    \n",
    "        if (r == 0) {\n",
    "        print( paste( b , \"properly divides\" , a , \"with quotient\" , q ))\n",
    "            \n",
    "        } else {\n",
    "        print(\"As per the Division Algorithm.\")\n",
    "        print( paste( a , \"=\" , q , \"*\" , b , \"+\" , r )) }\n",
    "        \n",
    "    } else {\n",
    "      print( \"At least one of the input numbers is not an integer\")}\n",
    "    \n",
    "}"
   ]
  },
  {
   "cell_type": "code",
   "execution_count": 2,
   "id": "74409b55-01e1-4b62-834b-93e669c8580d",
   "metadata": {},
   "outputs": [
    {
     "name": "stdin",
     "output_type": "stream",
     "text": [
      "Enter the larger integer:  5.2\n",
      "Enter the smaller integer:  3\n"
     ]
    },
    {
     "name": "stdout",
     "output_type": "stream",
     "text": [
      "[1] \"At least one of the input numbers is not an integer\"\n"
     ]
    }
   ],
   "source": [
    "division()"
   ]
  },
  {
   "cell_type": "code",
   "execution_count": 3,
   "id": "398b270a-1228-4682-b20e-db48fc6f701d",
   "metadata": {},
   "outputs": [
    {
     "name": "stdin",
     "output_type": "stream",
     "text": [
      "Enter the larger integer:  63\n",
      "Enter the smaller integer:  9\n"
     ]
    },
    {
     "name": "stdout",
     "output_type": "stream",
     "text": [
      "[1] \"9 properly divides 63 with quotient 7\"\n"
     ]
    }
   ],
   "source": [
    "division()"
   ]
  },
  {
   "cell_type": "code",
   "execution_count": 4,
   "id": "45cc5a71-dc5b-4705-b9e5-b66c2c1a8231",
   "metadata": {},
   "outputs": [
    {
     "name": "stdin",
     "output_type": "stream",
     "text": [
      "Enter the larger integer:  101\n",
      "Enter the smaller integer:  6\n"
     ]
    },
    {
     "name": "stdout",
     "output_type": "stream",
     "text": [
      "[1] \"As per the Division Algorithm.\"\n",
      "[1] \"101 = 16 * 6 + 5\"\n"
     ]
    }
   ],
   "source": [
    "division()"
   ]
  },
  {
   "cell_type": "code",
   "execution_count": 5,
   "id": "987192ad-499a-4f19-9981-b39985110b11",
   "metadata": {},
   "outputs": [],
   "source": [
    "is_prime <- function(n) {\n",
    "    \n",
    "      # Numbers less than 2 or even number other than 2 are not prime \n",
    "      if (n <= 1 || (n>2 && n %% 2 == 0) ) { \n",
    "        return(FALSE)  }\n",
    "    \n",
    "      # Odd numbers less than 9 are prime\n",
    "      if ( floor( sqrt(n) ) < 3){\n",
    "          return(TRUE) }\n",
    "    \n",
    "      for (i in seq(3, floor( sqrt(n) ), by = 2) ) {\n",
    "        if ( n %% i == 0 ) {\n",
    "          return(FALSE)\n",
    "        }}\n",
    "      # case when n =2 is prime  \n",
    "      return(TRUE)\n",
    "}"
   ]
  },
  {
   "cell_type": "code",
   "execution_count": 6,
   "id": "75330b03-6bf5-444a-9431-3ef1855032e1",
   "metadata": {},
   "outputs": [
    {
     "name": "stdout",
     "output_type": "stream",
     "text": [
      "[1] FALSE\n"
     ]
    }
   ],
   "source": [
    "print(is_prime(15)) "
   ]
  },
  {
   "cell_type": "code",
   "execution_count": 7,
   "id": "22024e6c-5476-4438-9131-9258822bec1e",
   "metadata": {},
   "outputs": [
    {
     "name": "stdout",
     "output_type": "stream",
     "text": [
      "[1] TRUE\n"
     ]
    }
   ],
   "source": [
    "print(is_prime(10061)) "
   ]
  },
  {
   "cell_type": "code",
   "execution_count": 8,
   "id": "ca0f5446-3fe3-4459-a5b7-38cb62b6509b",
   "metadata": {},
   "outputs": [],
   "source": [
    "seive_prime <- function(n) {\n",
    "      \n",
    "      if (n <= 1) {\n",
    "         print(\"The Value is too low\") \n",
    "         return() }\n",
    "      \n",
    "      primes <- rep(TRUE, n)\n",
    "\n",
    "      # 1 is not prime\n",
    "      primes[1] <- FALSE\n",
    "      \n",
    "      for (i in seq(1, floor( sqrt(n) ) ) ) {\n",
    "         if ( is_prime(i) ) {\n",
    "            a = i\n",
    "            while( a <= n ){\n",
    "                # Multiples of primes are not prime\n",
    "                a = a + i\n",
    "                primes[a] = FALSE\n",
    "      }  }  }\n",
    "      \n",
    "      prime_numbers <- which(primes)\n",
    "       \n",
    "      return(prime_numbers)\n",
    "}"
   ]
  },
  {
   "cell_type": "code",
   "execution_count": 9,
   "id": "6349f45d-1a72-450e-8985-4faa7aa7d155",
   "metadata": {},
   "outputs": [
    {
     "data": {
      "text/html": [
       "<style>\n",
       ".list-inline {list-style: none; margin:0; padding: 0}\n",
       ".list-inline>li {display: inline-block}\n",
       ".list-inline>li:not(:last-child)::after {content: \"\\00b7\"; padding: 0 .5ex}\n",
       "</style>\n",
       "<ol class=list-inline><li>2</li><li>3</li><li>5</li><li>7</li><li>11</li><li>13</li><li>17</li><li>19</li><li>23</li><li>29</li><li>31</li><li>37</li><li>41</li><li>43</li><li>47</li></ol>\n"
      ],
      "text/latex": [
       "\\begin{enumerate*}\n",
       "\\item 2\n",
       "\\item 3\n",
       "\\item 5\n",
       "\\item 7\n",
       "\\item 11\n",
       "\\item 13\n",
       "\\item 17\n",
       "\\item 19\n",
       "\\item 23\n",
       "\\item 29\n",
       "\\item 31\n",
       "\\item 37\n",
       "\\item 41\n",
       "\\item 43\n",
       "\\item 47\n",
       "\\end{enumerate*}\n"
      ],
      "text/markdown": [
       "1. 2\n",
       "2. 3\n",
       "3. 5\n",
       "4. 7\n",
       "5. 11\n",
       "6. 13\n",
       "7. 17\n",
       "8. 19\n",
       "9. 23\n",
       "10. 29\n",
       "11. 31\n",
       "12. 37\n",
       "13. 41\n",
       "14. 43\n",
       "15. 47\n",
       "\n",
       "\n"
      ],
      "text/plain": [
       " [1]  2  3  5  7 11 13 17 19 23 29 31 37 41 43 47"
      ]
     },
     "metadata": {},
     "output_type": "display_data"
    }
   ],
   "source": [
    "seive_prime(50)"
   ]
  },
  {
   "cell_type": "code",
   "execution_count": 10,
   "id": "0b70ed5e-7248-452a-9d08-540913825bf7",
   "metadata": {},
   "outputs": [
    {
     "data": {
      "text/html": [
       "<style>\n",
       ".list-inline {list-style: none; margin:0; padding: 0}\n",
       ".list-inline>li {display: inline-block}\n",
       ".list-inline>li:not(:last-child)::after {content: \"\\00b7\"; padding: 0 .5ex}\n",
       "</style>\n",
       "<ol class=list-inline><li>2</li><li>3</li><li>5</li><li>7</li><li>11</li><li>13</li><li>17</li><li>19</li><li>23</li><li>29</li><li>31</li><li>37</li><li>41</li><li>43</li><li>47</li><li>53</li><li>59</li><li>61</li><li>67</li><li>71</li><li>73</li><li>79</li><li>83</li><li>89</li><li>97</li><li>101</li><li>103</li><li>107</li><li>109</li><li>113</li><li>127</li><li>131</li><li>137</li><li>139</li><li>149</li><li>151</li><li>157</li><li>163</li><li>167</li><li>173</li><li>179</li><li>181</li><li>191</li><li>193</li><li>197</li><li>199</li></ol>\n"
      ],
      "text/latex": [
       "\\begin{enumerate*}\n",
       "\\item 2\n",
       "\\item 3\n",
       "\\item 5\n",
       "\\item 7\n",
       "\\item 11\n",
       "\\item 13\n",
       "\\item 17\n",
       "\\item 19\n",
       "\\item 23\n",
       "\\item 29\n",
       "\\item 31\n",
       "\\item 37\n",
       "\\item 41\n",
       "\\item 43\n",
       "\\item 47\n",
       "\\item 53\n",
       "\\item 59\n",
       "\\item 61\n",
       "\\item 67\n",
       "\\item 71\n",
       "\\item 73\n",
       "\\item 79\n",
       "\\item 83\n",
       "\\item 89\n",
       "\\item 97\n",
       "\\item 101\n",
       "\\item 103\n",
       "\\item 107\n",
       "\\item 109\n",
       "\\item 113\n",
       "\\item 127\n",
       "\\item 131\n",
       "\\item 137\n",
       "\\item 139\n",
       "\\item 149\n",
       "\\item 151\n",
       "\\item 157\n",
       "\\item 163\n",
       "\\item 167\n",
       "\\item 173\n",
       "\\item 179\n",
       "\\item 181\n",
       "\\item 191\n",
       "\\item 193\n",
       "\\item 197\n",
       "\\item 199\n",
       "\\end{enumerate*}\n"
      ],
      "text/markdown": [
       "1. 2\n",
       "2. 3\n",
       "3. 5\n",
       "4. 7\n",
       "5. 11\n",
       "6. 13\n",
       "7. 17\n",
       "8. 19\n",
       "9. 23\n",
       "10. 29\n",
       "11. 31\n",
       "12. 37\n",
       "13. 41\n",
       "14. 43\n",
       "15. 47\n",
       "16. 53\n",
       "17. 59\n",
       "18. 61\n",
       "19. 67\n",
       "20. 71\n",
       "21. 73\n",
       "22. 79\n",
       "23. 83\n",
       "24. 89\n",
       "25. 97\n",
       "26. 101\n",
       "27. 103\n",
       "28. 107\n",
       "29. 109\n",
       "30. 113\n",
       "31. 127\n",
       "32. 131\n",
       "33. 137\n",
       "34. 139\n",
       "35. 149\n",
       "36. 151\n",
       "37. 157\n",
       "38. 163\n",
       "39. 167\n",
       "40. 173\n",
       "41. 179\n",
       "42. 181\n",
       "43. 191\n",
       "44. 193\n",
       "45. 197\n",
       "46. 199\n",
       "\n",
       "\n"
      ],
      "text/plain": [
       " [1]   2   3   5   7  11  13  17  19  23  29  31  37  41  43  47  53  59  61  67\n",
       "[20]  71  73  79  83  89  97 101 103 107 109 113 127 131 137 139 149 151 157 163\n",
       "[39] 167 173 179 181 191 193 197 199"
      ]
     },
     "metadata": {},
     "output_type": "display_data"
    }
   ],
   "source": [
    "seive_prime(200)"
   ]
  },
  {
   "cell_type": "code",
   "execution_count": 11,
   "id": "2b1167ce-b228-4a77-b53f-367a7039cada",
   "metadata": {},
   "outputs": [],
   "source": [
    "pie_x <- function(n){\n",
    "    \n",
    "    a = ceiling( n / log(n) ) \n",
    "    print(paste( \"The number of primes less than or equal to\" , n , \"is approximately\" , a , \".\" ))    \n",
    "}"
   ]
  },
  {
   "cell_type": "code",
   "execution_count": 12,
   "id": "235105c7-1fda-4aa0-a7ee-1649456a7a2e",
   "metadata": {},
   "outputs": [
    {
     "name": "stdout",
     "output_type": "stream",
     "text": [
      "[1] \"The number of primes less than or equal to 50 is approximately 13 .\"\n"
     ]
    }
   ],
   "source": [
    "pie_x(50)"
   ]
  },
  {
   "cell_type": "code",
   "execution_count": null,
   "id": "e3a1dc55-4fa2-464e-81d2-015392b2691a",
   "metadata": {},
   "outputs": [],
   "source": []
  }
 ],
 "metadata": {
  "kernelspec": {
   "display_name": "R",
   "language": "R",
   "name": "ir"
  },
  "language_info": {
   "codemirror_mode": "r",
   "file_extension": ".r",
   "mimetype": "text/x-r-source",
   "name": "R",
   "pygments_lexer": "r",
   "version": "4.1.3"
  }
 },
 "nbformat": 4,
 "nbformat_minor": 5
}
