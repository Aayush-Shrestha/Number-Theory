{
 "cells": [
  {
   "cell_type": "code",
   "execution_count": 8,
   "metadata": {
    "colab": {
     "base_uri": "https://localhost:8080/",
     "height": 0
    },
    "id": "PT0ctYGHIASA",
    "outputId": "2c1d7308-d199-4854-8033-e8ee06d1987e"
   },
   "outputs": [
    {
     "name": "stdin",
     "output_type": "stream",
     "text": [
      "Enter the value of m:  6\n"
     ]
    },
    {
     "name": "stdout",
     "output_type": "stream",
     "text": [
      "Inverse modulo 6 of integers relatively prime to 6:\n",
      "Inverse of 1 modulo 6 is 1\n",
      "Inverse of 5 modulo 6 is 5\n"
     ]
    }
   ],
   "source": [
    "#Q1\n",
    "def gcd_extended(a, b):\n",
    "    if a == 0:\n",
    "        return (b, 0, 1)\n",
    "    else:\n",
    "        gcd, x, y = gcd_extended(b % a, a)\n",
    "        return (gcd, y - (b // a) * x, x)\n",
    "\n",
    "def mod_inverse(a, m):\n",
    "    gcd, x, y = gcd_extended(a, m)\n",
    "    if gcd != 1:\n",
    "        raise ValueError(f\"The inverse of {a} modulo {m} does not exist.\")\n",
    "    else:\n",
    "        return x % m\n",
    "\n",
    "def find_inverse_modulo_m(m):\n",
    "    inverses = {}\n",
    "    for i in range(1, m):\n",
    "        if gcd_extended(i, m)[0] == 1:\n",
    "            inverses[i] = mod_inverse(i, m)\n",
    "    return inverses\n",
    "\n",
    "m = int(input(\"Enter the value of m: \"))\n",
    "inverse_modulo_m = find_inverse_modulo_m(m)\n",
    "print(f\"Inverse modulo {m} of integers relatively prime to {m}:\")\n",
    "for num, inverse in inverse_modulo_m.items():\n",
    "    print(f\"Inverse of {num} modulo {m} is {inverse}\")\n"
   ]
  },
  {
   "cell_type": "code",
   "execution_count": 9,
   "metadata": {
    "colab": {
     "base_uri": "https://localhost:8080/",
     "height": 0
    },
    "id": "I5nPy7RAIY4U",
    "outputId": "465002bf-f679-44ab-e57d-aac664250102"
   },
   "outputs": [
    {
     "name": "stdout",
     "output_type": "stream",
     "text": [
      "Solutions: [3]\n"
     ]
    }
   ],
   "source": [
    "#Q2\n",
    "def extended_gcd(a, b):\n",
    "    if a == 0:\n",
    "        return b, 0, 1\n",
    "    else:\n",
    "        gcd, x, y = extended_gcd(b % a, a)\n",
    "        return gcd, y - (b // a) * x, x\n",
    "\n",
    "def solve_linear_congruence(a, b, m):\n",
    "    gcd, x, y = extended_gcd(a, m)\n",
    "    if b % gcd != 0:\n",
    "        return None  # No solution exists\n",
    "    else:\n",
    "        x0 = (x * (b // gcd)) % m\n",
    "        solutions = [(x0 + i * (m // gcd)) % m for i in range(gcd)]\n",
    "        return solutions\n",
    "\n",
    "# Example usage:\n",
    "a = 3\n",
    "b = 2\n",
    "m = 7\n",
    "solutions = solve_linear_congruence(a, b, m)\n",
    "if solutions is None:\n",
    "    print(\"No solution exists.\")\n",
    "else:\n",
    "    print(\"Solutions:\", solutions)\n"
   ]
  },
  {
   "cell_type": "code",
   "execution_count": 10,
   "metadata": {
    "colab": {
     "base_uri": "https://localhost:8080/",
     "height": 0
    },
    "id": "8NkA9j1bIgpY",
    "outputId": "e655624a-9646-46f1-fc9a-63e8622e9b3b"
   },
   "outputs": [
    {
     "name": "stdout",
     "output_type": "stream",
     "text": [
      "The solutions are:\n",
      "x = 20 + t * 7\n",
      "y = 14 - t * 5\n"
     ]
    }
   ],
   "source": [
    "#Q3\n",
    "def extended_gcd(a, b):\n",
    "    if a == 0:\n",
    "        return (b, 0, 1)\n",
    "    else:\n",
    "        g, y, x = extended_gcd(b % a, a)\n",
    "        return (g, x - (b // a) * y, y)\n",
    "\n",
    "def solve_linear_congruence(a1, b1, m1, a2, b2, m2):\n",
    "    g, x, y = extended_gcd(a1, a2)\n",
    "    if (b2 - b1) % g != 0:\n",
    "        print(\"No solution exists.\")\n",
    "        return\n",
    "    else:\n",
    "        lcm = m1 * m2 // g\n",
    "        x0 = x * ((b2 - b1) // g) % (m2 // g)\n",
    "        x_final = (b1 + a1 * x0) % lcm\n",
    "        y_final = (m1 * x_final + b1 - a1 * x_final) // a1\n",
    "        print(\"The solutions are:\")\n",
    "        print(\"x =\", x_final, \"+ t *\", m2 // g)\n",
    "        print(\"y =\", y_final, \"- t *\", m1 // g)\n",
    "\n",
    "# Example usage:\n",
    "a1 = 3\n",
    "b1 = 2\n",
    "m1 = 5\n",
    "a2 = 4\n",
    "b2 = 3\n",
    "m2 = 7\n",
    "\n",
    "solve_linear_congruence(a1, b1, m1, a2, b2, m2)\n"
   ]
  },
  {
   "cell_type": "code",
   "execution_count": 11,
   "metadata": {
    "colab": {
     "base_uri": "https://localhost:8080/",
     "height": 0
    },
    "id": "GmR33yNdIxD5",
    "outputId": "afc67c26-c56b-4f92-d3db-f305bbff961d"
   },
   "outputs": [
    {
     "name": "stdout",
     "output_type": "stream",
     "text": [
      "The solution is: 23\n"
     ]
    }
   ],
   "source": [
    "#Q4\n",
    "from math import gcd\n",
    "def extended_gcd(a, b):\n",
    "    if a == 0:\n",
    "        return (b, 0, 1)\n",
    "    else:\n",
    "        g, y, x = extended_gcd(b % a, a)\n",
    "        return (g, x - (b // a) * y, y)\n",
    "\n",
    "def mod_inv(a, m):\n",
    "    g, x, y = extended_gcd(a, m)\n",
    "    if g != 1:\n",
    "        raise Exception('Modular inverse does not exist')\n",
    "    else:\n",
    "        return x % m\n",
    "\n",
    "def chinese_remainder_theorem(n, a):\n",
    "    # n: list of moduli\n",
    "    # a: list of residues\n",
    "    if not all(gcd(n[i], n[j]) == 1 for i in range(len(n)) for j in range(i + 1, len(n))):\n",
    "        raise ValueError(\"Moduli are not pairwise coprime\")\n",
    "\n",
    "    # Calculate N which is the product of all moduli\n",
    "    N = 1\n",
    "    for ni in n:\n",
    "        N *= ni\n",
    "\n",
    "    # Calculate x using the Chinese Remainder Theorem\n",
    "    x = 0\n",
    "    for ni, ai in zip(n, a):\n",
    "        ni_bar = N // ni\n",
    "        xi = ai * ni_bar * mod_inv(ni_bar, ni)\n",
    "        x += xi\n",
    "    return x % N\n",
    "\n",
    "# Example usage:\n",
    "m = [3, 5, 7]\n",
    "a = [2, 3, 2]\n",
    "\n",
    "solution = chinese_remainder_theorem(m, a)\n",
    "print(\"The solution is:\", solution)\n"
   ]
  },
  {
   "cell_type": "code",
   "execution_count": 12,
   "metadata": {
    "colab": {
     "base_uri": "https://localhost:8080/",
     "height": 0
    },
    "id": "eUbp7Uo0I8yj",
    "outputId": "7e464cc8-d155-45be-a585-2be26fd52539"
   },
   "outputs": [
    {
     "name": "stdout",
     "output_type": "stream",
     "text": [
      "The solution is: (20, 14)\n"
     ]
    }
   ],
   "source": [
    "#Q4\n",
    "def extended_gcd(a, b):\n",
    "    if a == 0:\n",
    "        return (b, 0, 1)\n",
    "    else:\n",
    "        g, y, x = extended_gcd(b % a, a)\n",
    "        return (g, x - (b // a) * y, y)\n",
    "\n",
    "def mod_inv(a, m):\n",
    "    g, x, y = extended_gcd(a, m)\n",
    "    if g != 1:\n",
    "        raise Exception('Modular inverse does not exist')\n",
    "    else:\n",
    "        return x % m\n",
    "\n",
    "def solve_linear_congruence(a1, b1, m1, a2, b2, m2):\n",
    "    g, x, y = extended_gcd(a1, a2)\n",
    "    if (b2 - b1) % g != 0:\n",
    "        print(\"No solution exists.\")\n",
    "        return\n",
    "    else:\n",
    "        lcm = m1 * m2 // g\n",
    "        x0 = x * ((b2 - b1) // g) % (m2 // g)\n",
    "        x_final = (b1 + a1 * x0) % lcm\n",
    "        y_final = (m1 * x_final + b1 - a1 * x_final) // a1\n",
    "        return (x_final, y_final)\n",
    "\n",
    "# Example usage:\n",
    "a1 = 3\n",
    "b1 = 2\n",
    "m1 = 5\n",
    "a2 = 4\n",
    "b2 = 3\n",
    "m2 = 7\n",
    "\n",
    "solution = solve_linear_congruence(a1, b1, m1, a2, b2, m2)\n",
    "if solution:\n",
    "    print(\"The solution is:\", solution)\n"
   ]
  },
  {
   "cell_type": "code",
   "execution_count": 13,
   "metadata": {
    "colab": {
     "base_uri": "https://localhost:8080/",
     "height": 0
    },
    "id": "zAENW1ntJFko",
    "outputId": "895a2618-2cb0-4518-f90f-c1621bc046f1"
   },
   "outputs": [
    {
     "name": "stdout",
     "output_type": "stream",
     "text": [
      "Encrypted: Gsqtyxexmsrep\n",
      "Decrypted: Computational\n"
     ]
    }
   ],
   "source": [
    "#Q6\n",
    "def caesar_encrypt(plaintext, key):\n",
    "    ciphertext = \"\"\n",
    "    for char in plaintext:\n",
    "        if char.isalpha():\n",
    "            shifted = ord(char) + key\n",
    "            if char.islower():\n",
    "                if shifted > ord('z'):\n",
    "                    shifted -= 26\n",
    "            elif char.isupper():\n",
    "                if shifted > ord('Z'):\n",
    "                    shifted -= 26\n",
    "            ciphertext += chr(shifted)\n",
    "        else:\n",
    "            ciphertext += char\n",
    "    return ciphertext\n",
    "\n",
    "def caesar_decrypt(ciphertext, key):\n",
    "    return caesar_encrypt(ciphertext, -key)\n",
    "\n",
    "# Example usage:\n",
    "plaintext = \"Computational\"\n",
    "key = 4\n",
    "\n",
    "encrypted_text = caesar_encrypt(plaintext, key)\n",
    "print(\"Encrypted:\", encrypted_text)\n",
    "\n",
    "decrypted_text = caesar_decrypt(encrypted_text, key)\n",
    "print(\"Decrypted:\", decrypted_text)\n"
   ]
  },
  {
   "cell_type": "code",
   "execution_count": null,
   "metadata": {
    "id": "zVcfUH0QJTHU"
   },
   "outputs": [],
   "source": []
  }
 ],
 "metadata": {
  "colab": {
   "provenance": []
  },
  "kernelspec": {
   "display_name": "Python 3 (ipykernel)",
   "language": "python",
   "name": "python3"
  },
  "language_info": {
   "codemirror_mode": {
    "name": "ipython",
    "version": 3
   },
   "file_extension": ".py",
   "mimetype": "text/x-python",
   "name": "python",
   "nbconvert_exporter": "python",
   "pygments_lexer": "ipython3",
   "version": "3.8.10"
  }
 },
 "nbformat": 4,
 "nbformat_minor": 4
}
