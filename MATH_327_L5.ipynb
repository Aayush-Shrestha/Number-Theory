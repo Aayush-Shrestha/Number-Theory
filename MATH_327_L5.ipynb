{
 "cells": [
  {
   "cell_type": "code",
   "execution_count": 1,
   "id": "ac59d08a-56f9-4c6b-b937-16c1ba99ef27",
   "metadata": {},
   "outputs": [
    {
     "name": "stdout",
     "output_type": "stream",
     "text": [
      "Order of 2 modulo 17: 8\n"
     ]
    }
   ],
   "source": [
    "# Q1 Find the order of a modulo n where a and n are relatively prime positive integers.\n",
    "def gcd(a, b):  \n",
    "    while b > 0:\n",
    "        a, b = b, a % b\n",
    "    return a\n",
    "    \n",
    "def Order(a, m): \n",
    "    if gcd(a, m) != 1:\n",
    "        print(\"Not Relatively Prime\")\n",
    "        return None  \n",
    "    order = 1\n",
    "    while (a ** order) % m != 1:\n",
    "        order += 1\n",
    "    return order\n",
    "\n",
    "a = 2\n",
    "b = 17\n",
    "o = Order(a,b)\n",
    "print(f\"Order of {a} modulo {b}: {o}\")"
   ]
  },
  {
   "cell_type": "code",
   "execution_count": 2,
   "id": "a7879c53-1a7a-4a17-b481-a9781333b1a8",
   "metadata": {},
   "outputs": [
    {
     "name": "stdout",
     "output_type": "stream",
     "text": [
      "Primitive roots of 13 are :[2, 6, 7, 11]\n"
     ]
    }
   ],
   "source": [
    "# Q2 Find primitive roots when they exist.\n",
    "def residue_set(m):\n",
    "    residue = []\n",
    "    for i in range(m):\n",
    "        if gcd(m,i) == 1:\n",
    "            residue.append(i)\n",
    "    return residue\n",
    "    \n",
    "def gcd(a, b):  \n",
    "    while b > 0:\n",
    "        a, b = b, a % b\n",
    "    return a\n",
    "    \n",
    "def primitive_root(a, b):\n",
    "    i = 1\n",
    "    phi = len(residue_set(a))\n",
    "    while i < a:\n",
    "        if gcd(a , i) == 1:\n",
    "            order = 1\n",
    "            while (i ** order) % a != 1:\n",
    "                order += 1\n",
    "            if order == phi:\n",
    "                b.append(i)\n",
    "        i += 1\n",
    "\n",
    "a = 13\n",
    "b = []\n",
    "primitive_root(a,b)\n",
    "print(f\"Primitive roots of {a} are :{b}\")"
   ]
  },
  {
   "cell_type": "code",
   "execution_count": 3,
   "id": "6b89f211-61d1-4880-afd4-002b68c2d2cc",
   "metadata": {},
   "outputs": [
    {
     "name": "stdout",
     "output_type": "stream",
     "text": [
      "Table of indices of mod of 13 with primitive root 2:\n",
      "Integer--Index\n",
      "  1       12\n",
      "  2       1\n",
      "  3       4\n",
      "  4       2\n",
      "  5       9\n",
      "  6       5\n",
      "  7       11\n",
      "  8       3\n",
      "  9       8\n",
      "  10       10\n",
      "  11       7\n",
      "  12       6\n"
     ]
    }
   ],
   "source": [
    "# Q3 Construct a table of indices modulo a particular primitive root of an integer \n",
    "def ind_table(a, m, b):\n",
    "    i = 1\n",
    "    while i < a:\n",
    "        j = (m ** i) % a \n",
    "        b[j-1] = i\n",
    "        i += 1\n",
    "\n",
    "a = 13\n",
    "m = 2\n",
    "b = [0] * (a-1)\n",
    "ind_table(a, m, b)\n",
    "print(f\"Table of indices of mod of {a} with primitive root {m}:\")\n",
    "print(\"Integer--Index\")\n",
    "for i in range(len(b)):\n",
    "    print(\" \",i+1,\"     \",b[i])"
   ]
  },
  {
   "cell_type": "code",
   "execution_count": 4,
   "id": "5531becd",
   "metadata": {},
   "outputs": [
    {
     "name": "stdout",
     "output_type": "stream",
     "text": [
      "The possible values of x are:\n",
      "10\n",
      "11\n",
      "7\n",
      "6\n"
     ]
    }
   ],
   "source": [
    "# Q4 Solve for a * x^b = c(mod n)\n",
    "def residue_set(m):\n",
    "    residue = []\n",
    "    for i in range(m):\n",
    "        if gcd(m,i) == 1:\n",
    "            residue.append(i)\n",
    "    return residue\n",
    "    \n",
    "def gcd(a, b):  \n",
    "    while b > 0:\n",
    "        a, b = b, a % b\n",
    "    return a\n",
    "\n",
    "def ind_table(a, m, b):\n",
    "    i = 1\n",
    "    while i < a:\n",
    "        j = (m ** i) % a \n",
    "        b[j-1] = i\n",
    "        i += 1\n",
    "\n",
    "def primitive_root(a, b):\n",
    "    i = 1\n",
    "    phi = len(residue_set(a))\n",
    "    while i < a:\n",
    "        if gcd(a , i) == 1:\n",
    "            order = 1\n",
    "            while (i ** order) % a != 1:\n",
    "                order += 1\n",
    "            if order == phi:\n",
    "                b.append(i)\n",
    "        i += 1\n",
    "\n",
    "def solve(a,d,m):\n",
    "    x = []\n",
    "    p = gcd(a,m)\n",
    "    if p != 1 :\n",
    "        a = a / p\n",
    "        d = d / p\n",
    "        m = m / p\n",
    "        \n",
    "    phi = len(residue_set(int(m)))\n",
    "    z = ( d* ( a**(phi-1)))%m\n",
    "    x.append(int(z))\n",
    "    while p > 1:\n",
    "        p -= 1\n",
    "        z += m\n",
    "        x.append(int(z))\n",
    "    return x\n",
    "\n",
    "a = 1\n",
    "b = 12\n",
    "c = 13\n",
    "n = 17\n",
    "t = [0] * (n-1)\n",
    "r = []\n",
    "\n",
    "primitive_root(n,r)\n",
    "m = r[0]\n",
    "ind_table(n, m, t)\n",
    "\n",
    "phi = len(residue_set(n))\n",
    "d = (t[c-1]-t[a-1]) \n",
    "A = b\n",
    "# we have A indx = d(mod phi(n))\n",
    "y = solve(A,d,phi)\n",
    "\n",
    "print(\"The possible values of x are:\")\n",
    "for i in range(len(y)):\n",
    "    print(t.index(y[i])+1)"
   ]
  },
  {
   "cell_type": "code",
   "execution_count": null,
   "id": "3c267886-e29c-41ba-b14c-388e0fd5dadf",
   "metadata": {},
   "outputs": [],
   "source": []
  }
 ],
 "metadata": {
  "kernelspec": {
   "display_name": "Python 3 (ipykernel)",
   "language": "python",
   "name": "python3"
  },
  "language_info": {
   "codemirror_mode": {
    "name": "ipython",
    "version": 3
   },
   "file_extension": ".py",
   "mimetype": "text/x-python",
   "name": "python",
   "nbconvert_exporter": "python",
   "pygments_lexer": "ipython3",
   "version": "3.8.10"
  }
 },
 "nbformat": 4,
 "nbformat_minor": 5
}
