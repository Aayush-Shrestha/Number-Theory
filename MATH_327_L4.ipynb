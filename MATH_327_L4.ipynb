{
 "cells": [
  {
   "cell_type": "code",
   "execution_count": 1,
   "id": "2458a37b-0297-411b-a9cd-8f4db4ffcb6a",
   "metadata": {},
   "outputs": [
    {
     "name": "stdin",
     "output_type": "stream",
     "text": [
      "Enter a number 35\n"
     ]
    },
    {
     "name": "stdout",
     "output_type": "stream",
     "text": [
      "The reduced residue set of  35 is [1, 2, 3, 4, 6, 8, 9, 11, 12, 13, 16, 17, 18, 19, 22, 23, 24, 26, 27, 29, 31, 32, 33, 34]\n"
     ]
    }
   ],
   "source": [
    "#Q1 Construct a reduced residue set modulo n for a given positive integer n.\n",
    "def gcd(a, b):\n",
    "    while b:\n",
    "        a, b = b, a % b\n",
    "    return a\n",
    "\n",
    "def residue_set(m):\n",
    "    residue = []\n",
    "    for i in range(m):\n",
    "        if gcd(m,i) == 1:\n",
    "            residue.append(i)\n",
    "    return residue\n",
    "\n",
    "m = int(input(\"Enter a number\"))\n",
    "if m > 0:\n",
    "    set = residue_set(m)\n",
    "    print(\"The reduced residue set of \",m,\"is\",set)\n",
    "else:\n",
    "    print(\"Enter a positive number\")"
   ]
  },
  {
   "cell_type": "code",
   "execution_count": 2,
   "id": "69862ed1-0297-4837-b033-2cf09170f14d",
   "metadata": {},
   "outputs": [
    {
     "name": "stdout",
     "output_type": "stream",
     "text": [
      "The solution is x = 3\n"
     ]
    }
   ],
   "source": [
    "# Q2 Solve the linear congruence using Euler’s theorem.\n",
    "# ax = b(mod m)\n",
    "a = 3\n",
    "b = 2\n",
    "m = 7\n",
    "if gcd(a,m) == 1 :\n",
    "    phi = len(residue_set(m))\n",
    "    x = ( b* ( a**(phi-1)))%m\n",
    "    print(\"The solution is x =\",x)\n",
    "else:\n",
    "    print(a,\"and\",m,\"are not co-prime.\")"
   ]
  },
  {
   "cell_type": "code",
   "execution_count": 3,
   "id": "e32b7e58-2a21-4054-9a93-89479ad27d3e",
   "metadata": {},
   "outputs": [
    {
     "name": "stdin",
     "output_type": "stream",
     "text": [
      "Enter a number 14\n"
     ]
    },
    {
     "name": "stdout",
     "output_type": "stream",
     "text": [
      "The value of phi of  14 is 6\n"
     ]
    }
   ],
   "source": [
    "# Q3 Given a positive integer n find the value of phi(n)\n",
    "m = int(input(\"Enter a number\"))\n",
    "if m > 0:\n",
    "    phi = len(residue_set(m))\n",
    "    print(\"The value of phi of \",m,\"is\",phi)\n",
    "else:\n",
    "    print(\"Enter a positive number\")"
   ]
  },
  {
   "cell_type": "code",
   "execution_count": 4,
   "id": "439aa939-16f4-415e-83ec-90081bb0fc10",
   "metadata": {},
   "outputs": [
    {
     "name": "stdin",
     "output_type": "stream",
     "text": [
      "Enter a number 12\n"
     ]
    },
    {
     "name": "stdout",
     "output_type": "stream",
     "text": [
      "The value of tau of 12 is 6.\n"
     ]
    }
   ],
   "source": [
    "# Q4 Given a positive integer n find the value of tau(n)\n",
    "\n",
    "def divisors(m):\n",
    "    i = 2\n",
    "    divisor = [1,m]\n",
    "    while i < (m**0.5):\n",
    "        if m % i == 0:\n",
    "            divisor.append(i)\n",
    "            divisor.append(m//i)\n",
    "        i += 1\n",
    "    return divisor\n",
    "\n",
    "m = int(input(\"Enter a number\"))\n",
    "if m > 0:\n",
    "    tau = len(divisors(m))\n",
    "    print(f\"The value of tau of {m} is {tau}.\")\n",
    "else:\n",
    "    print(\"Enter a positive number\")"
   ]
  },
  {
   "cell_type": "code",
   "execution_count": 5,
   "id": "0e2c5d5b-a5b1-4f2d-9ab5-e20480d6fc26",
   "metadata": {},
   "outputs": [
    {
     "name": "stdin",
     "output_type": "stream",
     "text": [
      "Enter a number 12\n"
     ]
    },
    {
     "name": "stdout",
     "output_type": "stream",
     "text": [
      "The value of sigma of 12 is 28.\n"
     ]
    }
   ],
   "source": [
    "# Q5 Given a positive integer n find the value of sigma(n)\n",
    "m = int(input(\"Enter a number\"))\n",
    "if m > 0:\n",
    "    sigma = sum(divisors(m))\n",
    "    print(f\"The value of sigma of {m} is {sigma}.\")\n",
    "else:\n",
    "    print(\"Enter a positive number\")"
   ]
  },
  {
   "cell_type": "code",
   "execution_count": null,
   "id": "0d7a28f2-ad24-4305-9961-6f9a377aaf1a",
   "metadata": {},
   "outputs": [],
   "source": []
  }
 ],
 "metadata": {
  "kernelspec": {
   "display_name": "Python 3 (ipykernel)",
   "language": "python",
   "name": "python3"
  },
  "language_info": {
   "codemirror_mode": {
    "name": "ipython",
    "version": 3
   },
   "file_extension": ".py",
   "mimetype": "text/x-python",
   "name": "python",
   "nbconvert_exporter": "python",
   "pygments_lexer": "ipython3",
   "version": "3.8.10"
  }
 },
 "nbformat": 4,
 "nbformat_minor": 5
}
