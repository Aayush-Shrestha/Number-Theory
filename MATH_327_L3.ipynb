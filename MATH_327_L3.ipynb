{
 "cells": [
  {
   "cell_type": "code",
   "execution_count": 1,
   "id": "e3a1dc55-4fa2-464e-81d2-015392b2691a",
   "metadata": {},
   "outputs": [],
   "source": [
    "def is_prime(n):\n",
    "    \"\"\"Check if n is a prime number.\"\"\"\n",
    "    if n <= 1:\n",
    "        return False\n",
    "    if n == 2:\n",
    "        return True\n",
    "    if n % 2 == 0:\n",
    "        return False\n",
    "    sqrt_n = int(n**0.5) + 1\n",
    "    for i in range(3, sqrt_n, 2):\n",
    "        if n % i == 0:\n",
    "            return False\n",
    "    return True"
   ]
  },
  {
   "cell_type": "code",
   "execution_count": 2,
   "id": "cb31b1c5-aba2-485b-bf65-1cc9683ad071",
   "metadata": {},
   "outputs": [],
   "source": [
    "def gcd(a, b):\n",
    "    \"\"\"Calculate the greatest common divisor of a and b.\"\"\"\n",
    "    while b!= 0:\n",
    "        a, b = b, a % b\n",
    "    return a"
   ]
  },
  {
   "cell_type": "code",
   "execution_count": 3,
   "id": "b4df7be4-07f3-410c-8872-579cb3731433",
   "metadata": {},
   "outputs": [],
   "source": [
    "def solve_ax_equals_b_mod_p(a, b, p):\n",
    "    \"\"\"Solve ax ≡ b (mod p) using Fermat's Little Theorem.\"\"\"\n",
    "    # Check if p is prime\n",
    "    if not is_prime(p):\n",
    "        raise ValueError(\"p must be a prime number.\")\n",
    "    \n",
    "    # Check if gcd(a, p) is 1\n",
    "    if gcd(a, p)!= 1:\n",
    "        raise ValueError(\"The gcd of a and p must be 1.\")\n",
    "    \n",
    "    # Apply Fermat's Little Theorem\n",
    "    x = pow(b, p - 2, p)\n",
    "    return x"
   ]
  },
  {
   "cell_type": "code",
   "execution_count": 4,
   "id": "59d301b3-5b72-4c39-821d-cad0899bd02f",
   "metadata": {},
   "outputs": [
    {
     "name": "stdout",
     "output_type": "stream",
     "text": [
      "x = 5\n"
     ]
    }
   ],
   "source": [
    "a = 7\n",
    "b = 14\n",
    "p = 23\n",
    "\n",
    "x = solve_ax_equals_b_mod_p(a, b, p)\n",
    "print(f\"x = {x}\")"
   ]
  },
  {
   "cell_type": "code",
   "execution_count": null,
   "id": "658405a1-e63b-42c0-ad02-c09860e1b457",
   "metadata": {},
   "outputs": [],
   "source": []
  },
  {
   "cell_type": "code",
   "execution_count": 5,
   "id": "053191c1-7e24-489a-b38c-5edb274ba5f3",
   "metadata": {},
   "outputs": [],
   "source": [
    "import math"
   ]
  },
  {
   "cell_type": "code",
   "execution_count": 6,
   "id": "ed0fb83e-5b77-4c33-bd52-cf47afc7311f",
   "metadata": {},
   "outputs": [],
   "source": [
    "def is_pseudoprime(n):\n",
    "    \"\"\"Check if n is a pseudoprime.\"\"\"\n",
    "    if is_prime(n):\n",
    "        return \"Prime\"\n",
    "    else:\n",
    "        for a in range(2, n):\n",
    "            if gcd(a, n)!= 1:\n",
    "                continue\n",
    "            if pow(a, n - 1, n)!= 1:\n",
    "                break\n",
    "        else:\n",
    "            return \"Absolute Pseudoprime\"\n",
    "        return \"Pseudoprime\""
   ]
  },
  {
   "cell_type": "code",
   "execution_count": 10,
   "id": "671f52b6-d670-4783-96bc-09f599ec225f",
   "metadata": {},
   "outputs": [
    {
     "name": "stdout",
     "output_type": "stream",
     "text": [
      "561 is Absolute Pseudoprime\n"
     ]
    }
   ],
   "source": [
    "n = 561\n",
    "\n",
    "result = is_pseudoprime(n)\n",
    "print(f\"{n} is {result}\")"
   ]
  },
  {
   "cell_type": "code",
   "execution_count": null,
   "id": "2458a37b-0297-411b-a9cd-8f4db4ffcb6a",
   "metadata": {},
   "outputs": [],
   "source": []
  }
 ],
 "metadata": {
  "kernelspec": {
   "display_name": "Python 3 (ipykernel)",
   "language": "python",
   "name": "python3"
  },
  "language_info": {
   "codemirror_mode": {
    "name": "ipython",
    "version": 3
   },
   "file_extension": ".py",
   "mimetype": "text/x-python",
   "name": "python",
   "nbconvert_exporter": "python",
   "pygments_lexer": "ipython3",
   "version": "3.8.10"
  }
 },
 "nbformat": 4,
 "nbformat_minor": 5
}
